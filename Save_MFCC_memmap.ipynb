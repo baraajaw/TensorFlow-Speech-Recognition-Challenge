{
 "cells": [
  {
   "cell_type": "markdown",
   "metadata": {},
   "source": [
    "# 1 - Packages"
   ]
  },
  {
   "cell_type": "code",
   "execution_count": 1,
   "metadata": {},
   "outputs": [],
   "source": [
    "import librosa\n",
    "import numpy as np\n",
    "from os import listdir\n",
    "from os.path import isdir, join"
   ]
  },
  {
   "cell_type": "markdown",
   "metadata": {},
   "source": [
    "# 2 - Input "
   ]
  },
  {
   "cell_type": "code",
   "execution_count": 2,
   "metadata": {},
   "outputs": [],
   "source": [
    "dir_path = 'speech_recognition_dataset/train/audio' #input()\n",
    "#speech_recognition_dataset/train/audio"
   ]
  },
  {
   "cell_type": "code",
   "execution_count": 5,
   "metadata": {},
   "outputs": [
    {
     "name": "stdout",
     "output_type": "stream",
     "text": [
      "Number of Categories:  30\n",
      "['bed', 'bird', 'cat', 'dog', 'down', 'eight', 'five', 'four', 'go', 'happy', 'house', 'left', 'marvin', 'nine', 'no', 'off', 'on', 'one', 'right', 'seven', 'sheila', 'six', 'stop', 'three', 'tree', 'two', 'up', 'wow', 'yes', 'zero']\n"
     ]
    }
   ],
   "source": [
    "categories = [f for f in listdir(dir_path) if isdir(join(dir_path, f))]\n",
    "categories.sort()\n",
    "categories.remove('.ipynb_checkpoints')\n",
    "print('Number of Categories: ', len(categories[1:]))\n",
    "print(categories[1:])"
   ]
  },
  {
   "cell_type": "code",
   "execution_count": 7,
   "metadata": {},
   "outputs": [
    {
     "name": "stdout",
     "output_type": "stream",
     "text": [
      "Target List:  ['yes', 'no', 'up', 'down', 'left', 'right', 'on', 'off', 'stop', 'go']\n",
      "\n",
      "UnknownsList :  ['bed', 'bird', 'cat', 'dog', 'eight', 'five', 'four', 'happy', 'house', 'marvin', 'nine', 'one', 'seven', 'sheila', 'six', 'three', 'tree', 'two', 'wow', 'zero']\n"
     ]
    }
   ],
   "source": [
    "max_wav_len = 101\n",
    "target_list = ['yes', 'no', 'up', 'down', 'left', 'right', 'on', 'off', 'stop', 'go']\n",
    "unknown_list = [d for d in categories if d not in target_list and d != '_background_noise_' ]\n",
    "print('Target List: ', target_list)\n",
    "print('\\nUnknownsList : ', unknown_list)"
   ]
  },
  {
   "cell_type": "markdown",
   "metadata": {},
   "source": [
    "# 3 - Prepare Data"
   ]
  },
  {
   "cell_type": "code",
   "execution_count": 8,
   "metadata": {},
   "outputs": [],
   "source": [
    "background = [f for f in listdir(join(dir_path, '_background_noise_')) if f.endswith('.wav')]"
   ]
  },
  {
   "cell_type": "code",
   "execution_count": 9,
   "metadata": {},
   "outputs": [],
   "source": [
    "file_name = 'background_noise_mfcc.memmap'\n",
    "f = open('background_noise_label.txt','w+')\n",
    "fp = np.memmap(file_name, dtype='float32', mode='w+', shape=(101,20))"
   ]
  },
  {
   "cell_type": "code",
   "execution_count": 10,
   "metadata": {},
   "outputs": [],
   "source": [
    "cnt = 0\n",
    "for wav in background:\n",
    "    wave, sample_rate = librosa.load(join(join(dir_path,'_background_noise_'),wav))\n",
    "    wave = librosa.resample(wave, sample_rate, 16000)\n",
    "    mfcc = librosa.feature.mfcc(wave, hop_length=160, n_mfcc=20).T\n",
    "    for i in range(0, mfcc.shape[0], max_wav_len):\n",
    "        x = mfcc[i:i + max_wav_len, :]\n",
    "        if x.shape[0] != max_wav_len:\n",
    "            continue\n",
    "        fpc = np.memmap(file_name, dtype='float32', mode='r+', shape=((cnt + 1) * 101,20))\n",
    "        fpc[cnt * 101:, :] = x\n",
    "        f.writelines('silence\\n')\n",
    "        cnt += 1\n",
    "f.close()"
   ]
  },
  {
   "cell_type": "code",
   "execution_count": 11,
   "metadata": {},
   "outputs": [
    {
     "name": "stdout",
     "output_type": "stream",
     "text": [
      "[[-380.8116      27.567669   -49.555122  ...   -8.786341    -3.1839867\n",
      "    -1.2797297]\n",
      " [-330.67773     27.263283   -51.6185    ...   -5.1967373   -5.3206096\n",
      "     0.8096075]\n",
      " [-275.29913     26.223972   -54.35544   ...   -1.5325807   -5.5584164\n",
      "     2.7326455]\n",
      " ...\n",
      " [-150.74535     27.805984   -49.365887  ...  -10.94832     -8.642139\n",
      "     2.9427042]\n",
      " [-149.94096     29.052677   -48.31129   ...  -10.869948    -8.6259\n",
      "     3.4077725]\n",
      " [-150.18327     29.38075    -47.790947  ...  -10.256454    -8.068186\n",
      "     3.9103777]]\n"
     ]
    }
   ],
   "source": [
    "fpc = np.memmap(file_name, dtype='float32', mode='r', shape=((cnt) * 101,20))\n",
    "print(fpc[0:101, :])"
   ]
  },
  {
   "cell_type": "code",
   "execution_count": 12,
   "metadata": {},
   "outputs": [],
   "source": [
    "file_name = 'all_waves_mfcc.memmap'\n",
    "f = open('all_waves_label.txt','w+')\n",
    "fp = np.memmap(file_name, dtype='float32', mode='w+', shape=(101,20))"
   ]
  },
  {
   "cell_type": "code",
   "execution_count": 14,
   "metadata": {},
   "outputs": [
    {
     "name": "stdout",
     "output_type": "stream",
     "text": [
      "1 : bed 2 : bird 3 : cat 4 : dog 5 : down 6 : eight 7 : five 8 : four 9 : go 10 : happy 11 : house 12 : left 13 : marvin 14 : nine 15 : no 16 : off 17 : on 18 : one 19 : right 20 : seven 21 : sheila 22 : six 23 : stop 24 : three 25 : tree 26 : two 27 : up 28 : wow 29 : yes 30 : zero "
     ]
    }
   ],
   "source": [
    "cnt_all_waves = 0\n",
    "for i, direct in enumerate(categories[1:]):\n",
    "    waves = [f for f in listdir(join(dir_path, direct)) if f.endswith('.wav')]\n",
    "    print(i + 1,\":\", direct, end=\" \")\n",
    "    for wav in waves:\n",
    "        samples, sample_rate = librosa.load(join(join(dir_path,direct),wav), sr = 16000)\n",
    "        samples = librosa.resample(samples, sample_rate, 16000)\n",
    "        mfcc = librosa.feature.mfcc(samples, n_mfcc=20, hop_length=160).T\n",
    "        \n",
    "        if len(samples) != 16000 : \n",
    "            continue\n",
    "        if (max_wav_len > mfcc.shape[0]):\n",
    "            pad_width = max_wav_len  - mfcc.shape[1]\n",
    "            mfcc = np.pad(mfcc, pad_width=((0, 0), (0, pad_width)), mode='constant')\n",
    "        else:\n",
    "            mfcc = mfcc[:, :max_wav_len ]\n",
    "        fpc = np.memmap(file_name, dtype='float32', mode='r+', shape=((cnt_all_waves + 1) * 101,20))\n",
    "        fpc[cnt_all_waves * 101:, :] = mfcc\n",
    "        f.writelines(direct + '\\n')\n",
    "        cnt_all_waves += 1"
   ]
  },
  {
   "cell_type": "code",
   "execution_count": 15,
   "metadata": {},
   "outputs": [
    {
     "name": "stdout",
     "output_type": "stream",
     "text": [
      "[[-576.63556     16.24293      7.935775  ...    1.9529798    4.878601\n",
      "     6.4231753]\n",
      " [-576.5225      16.417307     7.9297323 ...    1.9303882    4.9848022\n",
      "     6.5338306]\n",
      " [-576.46924     16.597977     7.79028   ...    2.0994377    5.258776\n",
      "     6.551874 ]\n",
      " ...\n",
      " [-560.5723      31.39305     18.498745  ...    2.6069539    3.1524115\n",
      "     5.2859282]\n",
      " [-563.82434     29.314718    17.94899   ...    3.6223435    4.2829685\n",
      "     5.2425528]\n",
      " [-564.91187     28.464329    17.488823  ...    3.7690902    4.515863\n",
      "     5.333643 ]]\n"
     ]
    }
   ],
   "source": [
    "fpc = np.memmap(file_name, dtype='float32', mode='r', shape=((cnt_all_waves) * 101,20))\n",
    "print(fpc[0:101, :])"
   ]
  },
  {
   "cell_type": "code",
   "execution_count": 16,
   "metadata": {},
   "outputs": [
    {
     "name": "stdout",
     "output_type": "stream",
     "text": [
      "Number of Silence Files: 393\n",
      "Number of Known and Unknown files: 58252\n",
      "Total Number of example:  58645\n"
     ]
    }
   ],
   "source": [
    "print(\"Number of Silence Files:\", cnt)\n",
    "print(\"Number of Known and Unknown files:\", cnt_all_waves)\n",
    "print(\"Total Number of example: \", cnt + cnt_all_waves)"
   ]
  }
 ],
 "metadata": {
  "kernelspec": {
   "display_name": "Python 3",
   "language": "python",
   "name": "python3"
  },
  "language_info": {
   "codemirror_mode": {
    "name": "ipython",
    "version": 3
   },
   "file_extension": ".py",
   "mimetype": "text/x-python",
   "name": "python",
   "nbconvert_exporter": "python",
   "pygments_lexer": "ipython3",
   "version": "3.6.8"
  }
 },
 "nbformat": 4,
 "nbformat_minor": 2
}
